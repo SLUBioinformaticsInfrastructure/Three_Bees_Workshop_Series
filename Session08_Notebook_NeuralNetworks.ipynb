{
  "nbformat": 4,
  "nbformat_minor": 0,
  "metadata": {
    "colab": {
      "provenance": [],
      "gpuType": "T4"
    },
    "kernelspec": {
      "name": "python3",
      "display_name": "Python 3"
    },
    "language_info": {
      "name": "python"
    },
    "accelerator": "GPU"
  },
  "cells": [
    {
      "cell_type": "markdown",
      "source": [
        "# **Modules imports**"
      ],
      "metadata": {
        "id": "zyDVHe4Pt039"
      }
    },
    {
      "cell_type": "code",
      "source": [
        "import numpy as np\n",
        "\n",
        "import keras\n",
        "from keras import layers\n",
        "\n",
        "import matplotlib.pyplot as plt"
      ],
      "metadata": {
        "id": "PYXYojPRtxut"
      },
      "execution_count": 3,
      "outputs": []
    },
    {
      "cell_type": "markdown",
      "source": [
        "# **MNIST dataset**"
      ],
      "metadata": {
        "id": "c4Pdq3lPrv8y"
      }
    },
    {
      "cell_type": "code",
      "execution_count": 4,
      "metadata": {
        "id": "KRrDFfa9ru9c"
      },
      "outputs": [],
      "source": [
        "# Data parameters\n",
        "num_classes = 10\n",
        "input_shape = (28, 28, 1)\n",
        "\n",
        "# Load the data and split it between train and test sets\n",
        "(X, Y), (x, y) = keras.datasets.mnist.load_data()\n",
        "x_train, y_train, x_test, y_test = X, Y, x, y"
      ]
    },
    {
      "cell_type": "code",
      "source": [
        "print (x_train.shape, y_train.shape)"
      ],
      "metadata": {
        "colab": {
          "base_uri": "https://localhost:8080/"
        },
        "id": "LvjHlLEYVQ4A",
        "outputId": "30369337-648c-4b45-abda-d67c4ad241ef"
      },
      "execution_count": 5,
      "outputs": [
        {
          "output_type": "stream",
          "name": "stdout",
          "text": [
            "(60000, 28, 28) (60000,)\n"
          ]
        }
      ]
    },
    {
      "cell_type": "code",
      "source": [
        "print (x_train[0])"
      ],
      "metadata": {
        "colab": {
          "base_uri": "https://localhost:8080/"
        },
        "id": "9zugw6LsS6b0",
        "outputId": "7581dba8-e91e-43a5-c469-46fc15289e5b"
      },
      "execution_count": 6,
      "outputs": [
        {
          "output_type": "stream",
          "name": "stdout",
          "text": [
            "[[  0   0   0   0   0   0   0   0   0   0   0   0   0   0   0   0   0   0\n",
            "    0   0   0   0   0   0   0   0   0   0]\n",
            " [  0   0   0   0   0   0   0   0   0   0   0   0   0   0   0   0   0   0\n",
            "    0   0   0   0   0   0   0   0   0   0]\n",
            " [  0   0   0   0   0   0   0   0   0   0   0   0   0   0   0   0   0   0\n",
            "    0   0   0   0   0   0   0   0   0   0]\n",
            " [  0   0   0   0   0   0   0   0   0   0   0   0   0   0   0   0   0   0\n",
            "    0   0   0   0   0   0   0   0   0   0]\n",
            " [  0   0   0   0   0   0   0   0   0   0   0   0   0   0   0   0   0   0\n",
            "    0   0   0   0   0   0   0   0   0   0]\n",
            " [  0   0   0   0   0   0   0   0   0   0   0   0   3  18  18  18 126 136\n",
            "  175  26 166 255 247 127   0   0   0   0]\n",
            " [  0   0   0   0   0   0   0   0  30  36  94 154 170 253 253 253 253 253\n",
            "  225 172 253 242 195  64   0   0   0   0]\n",
            " [  0   0   0   0   0   0   0  49 238 253 253 253 253 253 253 253 253 251\n",
            "   93  82  82  56  39   0   0   0   0   0]\n",
            " [  0   0   0   0   0   0   0  18 219 253 253 253 253 253 198 182 247 241\n",
            "    0   0   0   0   0   0   0   0   0   0]\n",
            " [  0   0   0   0   0   0   0   0  80 156 107 253 253 205  11   0  43 154\n",
            "    0   0   0   0   0   0   0   0   0   0]\n",
            " [  0   0   0   0   0   0   0   0   0  14   1 154 253  90   0   0   0   0\n",
            "    0   0   0   0   0   0   0   0   0   0]\n",
            " [  0   0   0   0   0   0   0   0   0   0   0 139 253 190   2   0   0   0\n",
            "    0   0   0   0   0   0   0   0   0   0]\n",
            " [  0   0   0   0   0   0   0   0   0   0   0  11 190 253  70   0   0   0\n",
            "    0   0   0   0   0   0   0   0   0   0]\n",
            " [  0   0   0   0   0   0   0   0   0   0   0   0  35 241 225 160 108   1\n",
            "    0   0   0   0   0   0   0   0   0   0]\n",
            " [  0   0   0   0   0   0   0   0   0   0   0   0   0  81 240 253 253 119\n",
            "   25   0   0   0   0   0   0   0   0   0]\n",
            " [  0   0   0   0   0   0   0   0   0   0   0   0   0   0  45 186 253 253\n",
            "  150  27   0   0   0   0   0   0   0   0]\n",
            " [  0   0   0   0   0   0   0   0   0   0   0   0   0   0   0  16  93 252\n",
            "  253 187   0   0   0   0   0   0   0   0]\n",
            " [  0   0   0   0   0   0   0   0   0   0   0   0   0   0   0   0   0 249\n",
            "  253 249  64   0   0   0   0   0   0   0]\n",
            " [  0   0   0   0   0   0   0   0   0   0   0   0   0   0  46 130 183 253\n",
            "  253 207   2   0   0   0   0   0   0   0]\n",
            " [  0   0   0   0   0   0   0   0   0   0   0   0  39 148 229 253 253 253\n",
            "  250 182   0   0   0   0   0   0   0   0]\n",
            " [  0   0   0   0   0   0   0   0   0   0  24 114 221 253 253 253 253 201\n",
            "   78   0   0   0   0   0   0   0   0   0]\n",
            " [  0   0   0   0   0   0   0   0  23  66 213 253 253 253 253 198  81   2\n",
            "    0   0   0   0   0   0   0   0   0   0]\n",
            " [  0   0   0   0   0   0  18 171 219 253 253 253 253 195  80   9   0   0\n",
            "    0   0   0   0   0   0   0   0   0   0]\n",
            " [  0   0   0   0  55 172 226 253 253 253 253 244 133  11   0   0   0   0\n",
            "    0   0   0   0   0   0   0   0   0   0]\n",
            " [  0   0   0   0 136 253 253 253 212 135 132  16   0   0   0   0   0   0\n",
            "    0   0   0   0   0   0   0   0   0   0]\n",
            " [  0   0   0   0   0   0   0   0   0   0   0   0   0   0   0   0   0   0\n",
            "    0   0   0   0   0   0   0   0   0   0]\n",
            " [  0   0   0   0   0   0   0   0   0   0   0   0   0   0   0   0   0   0\n",
            "    0   0   0   0   0   0   0   0   0   0]\n",
            " [  0   0   0   0   0   0   0   0   0   0   0   0   0   0   0   0   0   0\n",
            "    0   0   0   0   0   0   0   0   0   0]]\n"
          ]
        }
      ]
    },
    {
      "cell_type": "code",
      "source": [
        "print (y_train[0])"
      ],
      "metadata": {
        "colab": {
          "base_uri": "https://localhost:8080/"
        },
        "id": "kQxPBrF0WY1m",
        "outputId": "4aa63fd6-2780-45b9-fba6-51d426be24d0"
      },
      "execution_count": 5,
      "outputs": [
        {
          "output_type": "stream",
          "name": "stdout",
          "text": [
            "5\n"
          ]
        }
      ]
    },
    {
      "cell_type": "code",
      "source": [
        "plt.imshow(x_train[0])"
      ],
      "metadata": {
        "colab": {
          "base_uri": "https://localhost:8080/",
          "height": 448
        },
        "id": "flV0HO8nS8bS",
        "outputId": "1298da32-a920-4c5c-b3cd-64ba1db4b1bf"
      },
      "execution_count": 6,
      "outputs": [
        {
          "output_type": "execute_result",
          "data": {
            "text/plain": [
              "<matplotlib.image.AxesImage at 0x7960f270a3b0>"
            ]
          },
          "metadata": {},
          "execution_count": 6
        },
        {
          "output_type": "display_data",
          "data": {
            "text/plain": [
              "<Figure size 640x480 with 1 Axes>"
            ],
            "image/png": "[encoded data removed]"
          },
          "metadata": {}
        }
      ]
    },
    {
      "cell_type": "code",
      "source": [
        "# Scale images to the [0, 1] range\n",
        "x_train = x_train.astype(\"float32\") / 255\n",
        "x_test = x_test.astype(\"float32\") / 255\n",
        "\n",
        "# One-hot encode output labels\n",
        "y_train = keras.utils.to_categorical(y_train, num_classes)\n",
        "y_test = keras.utils.to_categorical(y_test, num_classes)\n",
        "\n",
        "print (y_train[0])"
      ],
      "metadata": {
        "id": "tmlQQfQQS-rs",
        "colab": {
          "base_uri": "https://localhost:8080/"
        },
        "outputId": "25abb80f-f5e2-44cf-be18-31f4d65ad8d2"
      },
      "execution_count": 12,
      "outputs": [
        {
          "output_type": "stream",
          "name": "stdout",
          "text": [
            "[0. 0. 0. 0. 0. 1. 0. 0. 0. 0.]\n"
          ]
        }
      ]
    },
    {
      "cell_type": "markdown",
      "source": [
        "# **Create a Neural Network: Sequential**"
      ],
      "metadata": {
        "id": "x6nP9SGQrySc"
      }
    },
    {
      "cell_type": "code",
      "source": [
        "network = keras.Sequential([\n",
        "    keras.Input(shape=(28,28)),\n",
        "    keras.layers.Flatten(),\n",
        "    keras.layers.Dense(8, activation=\"tanh\"),\n",
        "    keras.layers.Dense(4, activation=\"tanh\"),\n",
        "    keras.layers.Dense(10, activation=\"softmax\")])"
      ],
      "metadata": {
        "id": "sfmyxfBErxk0"
      },
      "execution_count": 8,
      "outputs": []
    },
    {
      "cell_type": "markdown",
      "source": [
        "# **Create a Neural Network: Model Class**"
      ],
      "metadata": {
        "id": "y42PKzNSst-O"
      }
    },
    {
      "cell_type": "code",
      "source": [
        "input = keras.Input(shape=(28,28))\n",
        "x1 = keras.layers.Flatten()(input)\n",
        "x2 = keras.layers.Dense(8, activation=\"tanh\")(x1)\n",
        "x3 = keras.layers.Dense(4, activation=\"tanh\")(x2)\n",
        "output = keras.layers.Dense(10, activation=\"softmax\")(x3)\n",
        "\n",
        "network = keras.Model(inputs=input, outputs=output)"
      ],
      "metadata": {
        "id": "4hZqKHpkstVi"
      },
      "execution_count": 9,
      "outputs": []
    },
    {
      "cell_type": "code",
      "source": [
        "network.summary()"
      ],
      "metadata": {
        "colab": {
          "base_uri": "https://localhost:8080/"
        },
        "id": "6htyBr_evLXA",
        "outputId": "d1eaaa25-af3f-4208-8460-fdf55a96d3d5"
      },
      "execution_count": 10,
      "outputs": [
        {
          "output_type": "stream",
          "name": "stdout",
          "text": [
            "Model: \"model\"\n",
            "_________________________________________________________________\n",
            " Layer (type)                Output Shape              Param #   \n",
            "=================================================================\n",
            " input_2 (InputLayer)        [(None, 28, 28)]          0         \n",
            "                                                                 \n",
            " flatten_1 (Flatten)         (None, 784)               0         \n",
            "                                                                 \n",
            " dense_3 (Dense)             (None, 8)                 6280      \n",
            "                                                                 \n",
            " dense_4 (Dense)             (None, 4)                 36        \n",
            "                                                                 \n",
            " dense_5 (Dense)             (None, 10)                50        \n",
            "                                                                 \n",
            "=================================================================\n",
            "Total params: 6366 (24.87 KB)\n",
            "Trainable params: 6366 (24.87 KB)\n",
            "Non-trainable params: 0 (0.00 Byte)\n",
            "_________________________________________________________________\n"
          ]
        }
      ]
    },
    {
      "cell_type": "code",
      "source": [
        "network.compile(loss='categorical_crossentropy',\n",
        "                optimizer=keras.optimizers.Adam(learning_rate=0.01),\n",
        "                metrics=['accuracy'])"
      ],
      "metadata": {
        "id": "_jIgYPfTwKAs"
      },
      "execution_count": 11,
      "outputs": []
    },
    {
      "cell_type": "markdown",
      "source": [
        "# **Train Network**"
      ],
      "metadata": {
        "id": "QifYUjwExxKw"
      }
    },
    {
      "cell_type": "code",
      "source": [
        "network.fit(x_train, y_train, epochs=10, batch_size=512)"
      ],
      "metadata": {
        "colab": {
          "base_uri": "https://localhost:8080/"
        },
        "id": "AX14uwzBw-r-",
        "outputId": "e2de6145-e18c-49c2-8718-bd9eed4303f0"
      },
      "execution_count": 12,
      "outputs": [
        {
          "output_type": "stream",
          "name": "stdout",
          "text": [
            "Epoch 1/10\n",
            "118/118 [==============================] - 6s 11ms/step - loss: 1.2605 - accuracy: 0.6390\n",
            "Epoch 2/10\n",
            "118/118 [==============================] - 1s 10ms/step - loss: 0.6494 - accuracy: 0.8251\n",
            "Epoch 3/10\n",
            "118/118 [==============================] - 1s 11ms/step - loss: 0.4814 - accuracy: 0.8868\n",
            "Epoch 4/10\n",
            "118/118 [==============================] - 2s 14ms/step - loss: 0.4276 - accuracy: 0.8964\n",
            "Epoch 5/10\n",
            "118/118 [==============================] - 1s 11ms/step - loss: 0.4053 - accuracy: 0.9006\n",
            "Epoch 6/10\n",
            "118/118 [==============================] - 1s 10ms/step - loss: 0.3885 - accuracy: 0.9039\n",
            "Epoch 7/10\n",
            "118/118 [==============================] - 1s 12ms/step - loss: 0.3764 - accuracy: 0.9067\n",
            "Epoch 8/10\n",
            "118/118 [==============================] - 1s 8ms/step - loss: 0.3628 - accuracy: 0.9095\n",
            "Epoch 9/10\n",
            "118/118 [==============================] - 1s 10ms/step - loss: 0.3584 - accuracy: 0.9114\n",
            "Epoch 10/10\n",
            "118/118 [==============================] - 1s 7ms/step - loss: 0.3514 - accuracy: 0.9126\n"
          ]
        },
        {
          "output_type": "execute_result",
          "data": {
            "text/plain": [
              "<keras.src.callbacks.History at 0x7960d6c89870>"
            ]
          },
          "metadata": {},
          "execution_count": 12
        }
      ]
    },
    {
      "cell_type": "markdown",
      "source": [
        "# **Test Network**"
      ],
      "metadata": {
        "id": "nSlWWn1nza_Z"
      }
    },
    {
      "cell_type": "code",
      "source": [
        "network.evaluate(x_test, y_test)"
      ],
      "metadata": {
        "colab": {
          "base_uri": "https://localhost:8080/"
        },
        "id": "MvFNVNd31wdt",
        "outputId": "8ba9f74e-e04a-4dd4-f8d0-04aabfb0843f"
      },
      "execution_count": 13,
      "outputs": [
        {
          "output_type": "stream",
          "name": "stdout",
          "text": [
            "313/313 [==============================] - 1s 2ms/step - loss: 0.3978 - accuracy: 0.9037\n"
          ]
        },
        {
          "output_type": "execute_result",
          "data": {
            "text/plain": [
              "[0.3977714478969574, 0.9036999940872192]"
            ]
          },
          "metadata": {},
          "execution_count": 13
        }
      ]
    },
    {
      "cell_type": "code",
      "source": [
        " predictions = network.predict(x_test)"
      ],
      "metadata": {
        "colab": {
          "base_uri": "https://localhost:8080/"
        },
        "id": "ON06mvSdzJhK",
        "outputId": "e8ade55f-6eef-4581-ec18-11c461cf8147"
      },
      "execution_count": 14,
      "outputs": [
        {
          "output_type": "stream",
          "name": "stdout",
          "text": [
            "313/313 [==============================] - 1s 2ms/step\n"
          ]
        }
      ]
    },
    {
      "cell_type": "code",
      "source": [
        "print (x_test.shape, y_test.shape, predictions.shape)"
      ],
      "metadata": {
        "colab": {
          "base_uri": "https://localhost:8080/"
        },
        "id": "Cgn-uVD40eSP",
        "outputId": "ff677f78-00f8-4c8c-c9f9-2b015ea2a778"
      },
      "execution_count": 15,
      "outputs": [
        {
          "output_type": "stream",
          "name": "stdout",
          "text": [
            "(10000, 28, 28) (10000, 10) (10000, 10)\n"
          ]
        }
      ]
    },
    {
      "cell_type": "code",
      "source": [
        "for n in predictions[0]:\n",
        "  print (round(n, 3))"
      ],
      "metadata": {
        "colab": {
          "base_uri": "https://localhost:8080/"
        },
        "id": "2JfJnfYJzxQP",
        "outputId": "3d4d6b56-28e4-46b0-a80f-8255e6862ef9"
      },
      "execution_count": 16,
      "outputs": [
        {
          "output_type": "stream",
          "name": "stdout",
          "text": [
            "0.0\n",
            "0.0\n",
            "0.0\n",
            "0.009\n",
            "0.0\n",
            "0.01\n",
            "0.0\n",
            "0.979\n",
            "0.0\n",
            "0.001\n"
          ]
        }
      ]
    },
    {
      "cell_type": "code",
      "source": [
        "idx = 0\n",
        "print (np.argmax(y_test[idx]), np.argmax(predictions[idx]))"
      ],
      "metadata": {
        "colab": {
          "base_uri": "https://localhost:8080/"
        },
        "id": "R-qyVIs705zH",
        "outputId": "70728311-80c5-424b-89ba-643e038d45d0"
      },
      "execution_count": 17,
      "outputs": [
        {
          "output_type": "stream",
          "name": "stdout",
          "text": [
            "7 7\n"
          ]
        }
      ]
    },
    {
      "cell_type": "markdown",
      "source": [
        "# **Train larger Network**"
      ],
      "metadata": {
        "id": "k-jod925_rzW"
      }
    },
    {
      "cell_type": "code",
      "source": [
        "network_large = keras.Sequential([\n",
        "    keras.Input(shape=(28,28)),\n",
        "    keras.layers.Flatten(),\n",
        "    keras.layers.Dense(4096, activation=\"tanh\"),\n",
        "    keras.layers.Dense(2048, activation=\"tanh\"),\n",
        "    keras.layers.Dense(1024, activation=\"tanh\"),\n",
        "    keras.layers.Dense(512, activation=\"tanh\"),\n",
        "    keras.layers.Dense(256, activation=\"tanh\"),\n",
        "    keras.layers.Dense(128, activation=\"tanh\"),\n",
        "    keras.layers.Dense(64, activation=\"tanh\"),\n",
        "    keras.layers.Dense(32, activation=\"tanh\"),\n",
        "    keras.layers.Dense(16, activation=\"tanh\"),\n",
        "    keras.layers.Dense(10, activation=\"softmax\")])\n",
        "\n",
        "network_large.compile(loss='categorical_crossentropy',\n",
        "                optimizer=keras.optimizers.Adam(learning_rate=0.001),\n",
        "                metrics=['accuracy'])\n",
        "\n",
        "network_large.fit(x_train, y_train, epochs=30, batch_size=512)"
      ],
      "metadata": {
        "colab": {
          "base_uri": "https://localhost:8080/"
        },
        "id": "En47wJ-g_tdq",
        "outputId": "e908b110-a3b3-446a-9295-0642adc66ddb"
      },
      "execution_count": 18,
      "outputs": [
        {
          "output_type": "stream",
          "name": "stdout",
          "text": [
            "Epoch 1/30\n",
            "118/118 [==============================] - 5s 16ms/step - loss: 0.5918 - accuracy: 0.8806\n",
            "Epoch 2/30\n",
            "118/118 [==============================] - 2s 15ms/step - loss: 0.2531 - accuracy: 0.9455\n",
            "Epoch 3/30\n",
            "118/118 [==============================] - 2s 17ms/step - loss: 0.1793 - accuracy: 0.9577\n",
            "Epoch 4/30\n",
            "118/118 [==============================] - 2s 16ms/step - loss: 0.1407 - accuracy: 0.9657\n",
            "Epoch 5/30\n",
            "118/118 [==============================] - 2s 15ms/step - loss: 0.1239 - accuracy: 0.9692\n",
            "Epoch 6/30\n",
            "118/118 [==============================] - 2s 15ms/step - loss: 0.1020 - accuracy: 0.9740\n",
            "Epoch 7/30\n",
            "118/118 [==============================] - 2s 15ms/step - loss: 0.0885 - accuracy: 0.9770\n",
            "Epoch 8/30\n",
            "118/118 [==============================] - 2s 15ms/step - loss: 0.0800 - accuracy: 0.9785\n",
            "Epoch 9/30\n",
            "118/118 [==============================] - 2s 16ms/step - loss: 0.0690 - accuracy: 0.9819\n",
            "Epoch 10/30\n",
            "118/118 [==============================] - 2s 17ms/step - loss: 0.0627 - accuracy: 0.9825\n",
            "Epoch 11/30\n",
            "118/118 [==============================] - 2s 16ms/step - loss: 0.0605 - accuracy: 0.9837\n",
            "Epoch 12/30\n",
            "118/118 [==============================] - 2s 15ms/step - loss: 0.0556 - accuracy: 0.9847\n",
            "Epoch 13/30\n",
            "118/118 [==============================] - 2s 15ms/step - loss: 0.0558 - accuracy: 0.9847\n",
            "Epoch 14/30\n",
            "118/118 [==============================] - 2s 15ms/step - loss: 0.0503 - accuracy: 0.9858\n",
            "Epoch 15/30\n",
            "118/118 [==============================] - 2s 16ms/step - loss: 0.0446 - accuracy: 0.9876\n",
            "Epoch 16/30\n",
            "118/118 [==============================] - 2s 17ms/step - loss: 0.0446 - accuracy: 0.9873\n",
            "Epoch 17/30\n",
            "118/118 [==============================] - 2s 16ms/step - loss: 0.0485 - accuracy: 0.9858\n",
            "Epoch 18/30\n",
            "118/118 [==============================] - 2s 16ms/step - loss: 0.0382 - accuracy: 0.9891\n",
            "Epoch 19/30\n",
            "118/118 [==============================] - 2s 16ms/step - loss: 0.0358 - accuracy: 0.9896\n",
            "Epoch 20/30\n",
            "118/118 [==============================] - 2s 16ms/step - loss: 0.0388 - accuracy: 0.9886\n",
            "Epoch 21/30\n",
            "118/118 [==============================] - 2s 15ms/step - loss: 0.0348 - accuracy: 0.9900\n",
            "Epoch 22/30\n",
            "118/118 [==============================] - 2s 16ms/step - loss: 0.0346 - accuracy: 0.9898\n",
            "Epoch 23/30\n",
            "118/118 [==============================] - 2s 17ms/step - loss: 0.0338 - accuracy: 0.9900\n",
            "Epoch 24/30\n",
            "118/118 [==============================] - 2s 16ms/step - loss: 0.0346 - accuracy: 0.9896\n",
            "Epoch 25/30\n",
            "118/118 [==============================] - 2s 16ms/step - loss: 0.0312 - accuracy: 0.9909\n",
            "Epoch 26/30\n",
            "118/118 [==============================] - 2s 16ms/step - loss: 0.0280 - accuracy: 0.9919\n",
            "Epoch 27/30\n",
            "118/118 [==============================] - 2s 16ms/step - loss: 0.0333 - accuracy: 0.9898\n",
            "Epoch 28/30\n",
            "118/118 [==============================] - 2s 16ms/step - loss: 0.0403 - accuracy: 0.9879\n",
            "Epoch 29/30\n",
            "118/118 [==============================] - 2s 18ms/step - loss: 0.0289 - accuracy: 0.9912\n",
            "Epoch 30/30\n",
            "118/118 [==============================] - 2s 16ms/step - loss: 0.0290 - accuracy: 0.9915\n"
          ]
        },
        {
          "output_type": "execute_result",
          "data": {
            "text/plain": [
              "<keras.src.callbacks.History at 0x7960bc1da9e0>"
            ]
          },
          "metadata": {},
          "execution_count": 18
        }
      ]
    },
    {
      "cell_type": "code",
      "source": [
        "network.evaluate(x_test, y_test)"
      ],
      "metadata": {
        "id": "maXCm15tCZat",
        "colab": {
          "base_uri": "https://localhost:8080/"
        },
        "outputId": "e0132d42-a43f-4627-cb95-e1f6e27cae52"
      },
      "execution_count": 19,
      "outputs": [
        {
          "output_type": "stream",
          "name": "stdout",
          "text": [
            "313/313 [==============================] - 1s 2ms/step - loss: 0.3978 - accuracy: 0.9037\n"
          ]
        },
        {
          "output_type": "execute_result",
          "data": {
            "text/plain": [
              "[0.3977714478969574, 0.9036999940872192]"
            ]
          },
          "metadata": {},
          "execution_count": 19
        }
      ]
    },
    {
      "cell_type": "markdown",
      "source": [
        "# **Train with Validation split**"
      ],
      "metadata": {
        "id": "N0g2bO2jF4dx"
      }
    },
    {
      "cell_type": "code",
      "source": [
        "network_large = keras.Sequential([\n",
        "    keras.Input(shape=(28,28)),\n",
        "    keras.layers.Flatten(),\n",
        "    keras.layers.Dense(4096, activation=\"tanh\"),\n",
        "    keras.layers.Dense(2048, activation=\"tanh\"),\n",
        "    keras.layers.Dense(1024, activation=\"tanh\"),\n",
        "    keras.layers.Dense(512, activation=\"tanh\"),\n",
        "    keras.layers.Dense(256, activation=\"tanh\"),\n",
        "    keras.layers.Dense(128, activation=\"tanh\"),\n",
        "    keras.layers.Dense(64, activation=\"tanh\"),\n",
        "    keras.layers.Dense(32, activation=\"tanh\"),\n",
        "    keras.layers.Dense(16, activation=\"tanh\"),\n",
        "    keras.layers.Dense(10, activation=\"softmax\")])\n",
        "\n",
        "network_large.compile(loss='categorical_crossentropy',\n",
        "                optimizer=keras.optimizers.Adam(learning_rate=0.001),\n",
        "                metrics=['accuracy'])\n",
        "\n",
        "h = network_large.fit(x_train, y_train, epochs=30, batch_size=512, validation_split=0.1)"
      ],
      "metadata": {
        "id": "yHsgwA0zD5WQ",
        "colab": {
          "base_uri": "https://localhost:8080/"
        },
        "outputId": "2a90938e-a066-4bea-c293-364ea76e6883"
      },
      "execution_count": 20,
      "outputs": [
        {
          "output_type": "stream",
          "name": "stdout",
          "text": [
            "Epoch 1/30\n",
            "106/106 [==============================] - 5s 21ms/step - loss: 0.6297 - accuracy: 0.8764 - val_loss: 0.3218 - val_accuracy: 0.9493\n",
            "Epoch 2/30\n",
            "106/106 [==============================] - 2s 17ms/step - loss: 0.2849 - accuracy: 0.9424 - val_loss: 0.2184 - val_accuracy: 0.9542\n",
            "Epoch 3/30\n",
            "106/106 [==============================] - 2s 20ms/step - loss: 0.2011 - accuracy: 0.9556 - val_loss: 0.1554 - val_accuracy: 0.9650\n",
            "Epoch 4/30\n",
            "106/106 [==============================] - 2s 18ms/step - loss: 0.1549 - accuracy: 0.9633 - val_loss: 0.1285 - val_accuracy: 0.9712\n",
            "Epoch 5/30\n",
            "106/106 [==============================] - 2s 18ms/step - loss: 0.1214 - accuracy: 0.9710 - val_loss: 0.1415 - val_accuracy: 0.9658\n",
            "Epoch 6/30\n",
            "106/106 [==============================] - 2s 17ms/step - loss: 0.1103 - accuracy: 0.9723 - val_loss: 0.1170 - val_accuracy: 0.9715\n",
            "Epoch 7/30\n",
            "106/106 [==============================] - 2s 17ms/step - loss: 0.0898 - accuracy: 0.9772 - val_loss: 0.1100 - val_accuracy: 0.9715\n",
            "Epoch 8/30\n",
            "106/106 [==============================] - 2s 17ms/step - loss: 0.0751 - accuracy: 0.9812 - val_loss: 0.0923 - val_accuracy: 0.9773\n",
            "Epoch 9/30\n",
            "106/106 [==============================] - 2s 19ms/step - loss: 0.0728 - accuracy: 0.9811 - val_loss: 0.0976 - val_accuracy: 0.9718\n",
            "Epoch 10/30\n",
            "106/106 [==============================] - 2s 18ms/step - loss: 0.0644 - accuracy: 0.9827 - val_loss: 0.0992 - val_accuracy: 0.9757\n",
            "Epoch 11/30\n",
            "106/106 [==============================] - 2s 17ms/step - loss: 0.0557 - accuracy: 0.9856 - val_loss: 0.1007 - val_accuracy: 0.9740\n",
            "Epoch 12/30\n",
            "106/106 [==============================] - 2s 17ms/step - loss: 0.0631 - accuracy: 0.9827 - val_loss: 0.1022 - val_accuracy: 0.9720\n",
            "Epoch 13/30\n",
            "106/106 [==============================] - 2s 17ms/step - loss: 0.0546 - accuracy: 0.9852 - val_loss: 0.0948 - val_accuracy: 0.9747\n",
            "Epoch 14/30\n",
            "106/106 [==============================] - 2s 17ms/step - loss: 0.0514 - accuracy: 0.9861 - val_loss: 0.0954 - val_accuracy: 0.9785\n",
            "Epoch 15/30\n",
            "106/106 [==============================] - 2s 18ms/step - loss: 0.0514 - accuracy: 0.9855 - val_loss: 0.0888 - val_accuracy: 0.9777\n",
            "Epoch 16/30\n",
            "106/106 [==============================] - 2s 19ms/step - loss: 0.0438 - accuracy: 0.9875 - val_loss: 0.1015 - val_accuracy: 0.9735\n",
            "Epoch 17/30\n",
            "106/106 [==============================] - 2s 18ms/step - loss: 0.0401 - accuracy: 0.9883 - val_loss: 0.0914 - val_accuracy: 0.9755\n",
            "Epoch 18/30\n",
            "106/106 [==============================] - 2s 18ms/step - loss: 0.0434 - accuracy: 0.9881 - val_loss: 0.0951 - val_accuracy: 0.9742\n",
            "Epoch 19/30\n",
            "106/106 [==============================] - 2s 18ms/step - loss: 0.0350 - accuracy: 0.9897 - val_loss: 0.0907 - val_accuracy: 0.9770\n",
            "Epoch 20/30\n",
            "106/106 [==============================] - 2s 20ms/step - loss: 0.0362 - accuracy: 0.9895 - val_loss: 0.0934 - val_accuracy: 0.9755\n",
            "Epoch 21/30\n",
            "106/106 [==============================] - 2s 17ms/step - loss: 0.0356 - accuracy: 0.9897 - val_loss: 0.0872 - val_accuracy: 0.9767\n",
            "Epoch 22/30\n",
            "106/106 [==============================] - 2s 20ms/step - loss: 0.0346 - accuracy: 0.9901 - val_loss: 0.0939 - val_accuracy: 0.9757\n",
            "Epoch 23/30\n",
            "106/106 [==============================] - 2s 17ms/step - loss: 0.0352 - accuracy: 0.9900 - val_loss: 0.0874 - val_accuracy: 0.9763\n",
            "Epoch 24/30\n",
            "106/106 [==============================] - 2s 17ms/step - loss: 0.0341 - accuracy: 0.9896 - val_loss: 0.0864 - val_accuracy: 0.9780\n",
            "Epoch 25/30\n",
            "106/106 [==============================] - 2s 18ms/step - loss: 0.0334 - accuracy: 0.9899 - val_loss: 0.0911 - val_accuracy: 0.9752\n",
            "Epoch 26/30\n",
            "106/106 [==============================] - 2s 17ms/step - loss: 0.0348 - accuracy: 0.9897 - val_loss: 0.1049 - val_accuracy: 0.9730\n",
            "Epoch 27/30\n",
            "106/106 [==============================] - 2s 17ms/step - loss: 0.0263 - accuracy: 0.9925 - val_loss: 0.1046 - val_accuracy: 0.9737\n",
            "Epoch 28/30\n",
            "106/106 [==============================] - 2s 19ms/step - loss: 0.0267 - accuracy: 0.9923 - val_loss: 0.0914 - val_accuracy: 0.9748\n",
            "Epoch 29/30\n",
            "106/106 [==============================] - 2s 19ms/step - loss: 0.0267 - accuracy: 0.9919 - val_loss: 0.0900 - val_accuracy: 0.9767\n",
            "Epoch 30/30\n",
            "106/106 [==============================] - 2s 18ms/step - loss: 0.0246 - accuracy: 0.9927 - val_loss: 0.0939 - val_accuracy: 0.9753\n"
          ]
        }
      ]
    },
    {
      "cell_type": "code",
      "source": [
        "plt.plot(h.history['loss'])\n",
        "plt.plot(h.history['val_loss'])\n",
        "plt.show()"
      ],
      "metadata": {
        "id": "wzt-jzbxEUs1",
        "colab": {
          "base_uri": "https://localhost:8080/",
          "height": 430
        },
        "outputId": "92b86ef4-1d7e-4ec3-b976-3b70728c670a"
      },
      "execution_count": 21,
      "outputs": [
        {
          "output_type": "display_data",
          "data": {
            "text/plain": [
              "<Figure size 640x480 with 1 Axes>"
            ],
            "image/png": "[encoded data removed]"
          },
          "metadata": {}
        }
      ]
    },
    {
      "cell_type": "code",
      "source": [
        "plt.plot(h.history['accuracy'])\n",
        "plt.plot(h.history['val_accuracy'])\n",
        "plt.show()"
      ],
      "metadata": {
        "id": "vbOo81NDFcS5",
        "colab": {
          "base_uri": "https://localhost:8080/",
          "height": 430
        },
        "outputId": "7d87f5c1-33bf-4e9c-88a0-22d915bc98c4"
      },
      "execution_count": 22,
      "outputs": [
        {
          "output_type": "display_data",
          "data": {
            "text/plain": [
              "<Figure size 640x480 with 1 Axes>"
            ],
            "image/png": "[encoded data removed]"
          },
          "metadata": {}
        }
      ]
    },
    {
      "cell_type": "markdown",
      "source": [
        "# **Inject noise**"
      ],
      "metadata": {
        "id": "OuuJzzNAsKcb"
      }
    },
    {
      "cell_type": "code",
      "source": [
        "# Noise injection function\n",
        "def stripe_noise(data):\n",
        "  corrupted = np.zeros(data.shape)\n",
        "  for ex in range(len(data)):\n",
        "    ov = np.random.choice([0,1])\n",
        "    idx = np.random.choice(np.arange(28))\n",
        "    corrupted[ex] = data[ex]\n",
        "    if ov == 1: corrupted[ex,idx,:] = 255\n",
        "    else: corrupted[ex,:,idx] = 255\n",
        "\n",
        "  return corrupted"
      ],
      "metadata": {
        "id": "7X01oZbvsTTE"
      },
      "execution_count": 23,
      "outputs": []
    },
    {
      "cell_type": "code",
      "source": [
        "x_train_striped = stripe_noise(X)\n",
        "x_test_striped = stripe_noise(x)"
      ],
      "metadata": {
        "id": "Gz8IUeTSoDj9"
      },
      "execution_count": 24,
      "outputs": []
    },
    {
      "cell_type": "code",
      "source": [
        "plt.imshow(x_train_striped[0])"
      ],
      "metadata": {
        "colab": {
          "base_uri": "https://localhost:8080/",
          "height": 448
        },
        "id": "mgINsilWoqK9",
        "outputId": "ba1de1c4-1cd1-4115-dd51-b9909706579a"
      },
      "execution_count": 25,
      "outputs": [
        {
          "output_type": "execute_result",
          "data": {
            "text/plain": [
              "<matplotlib.image.AxesImage at 0x7960f252a920>"
            ]
          },
          "metadata": {},
          "execution_count": 25
        },
        {
          "output_type": "display_data",
          "data": {
            "text/plain": [
              "<Figure size 640x480 with 1 Axes>"
            ],
            "image/png": "[encoded data removed]"
          },
          "metadata": {}
        }
      ]
    },
    {
      "cell_type": "markdown",
      "source": [
        "# **Alter position**"
      ],
      "metadata": {
        "id": "C93-IzmPnvAR"
      }
    },
    {
      "cell_type": "code",
      "source": [
        "# Function to pad randomly input examples\n",
        "def loc_noise(data, rnd=True):\n",
        "  shifted = np.zeros((data.shape[0],56,56))\n",
        "  for ex in range(len(data)):\n",
        "    ud = np.random.randint(0,28)\n",
        "    lr = np.random.randint(0,28)\n",
        "    padded = data[ex]\n",
        "    if rnd: padded = np.pad(data[ex], ((ud, 28-ud), (lr, 28-lr)))\n",
        "    else: padded = np.pad(data[ex], ((28,0),(28,0)))\n",
        "    shifted[ex] = padded\n",
        "  return shifted"
      ],
      "metadata": {
        "id": "RSzn5uQksaRj"
      },
      "execution_count": 7,
      "outputs": []
    },
    {
      "cell_type": "code",
      "source": [
        "x_train_shift = loc_noise(x_train, rnd=False)\n",
        "x_train_rnd = loc_noise(x_train)\n",
        "x_test_shift = loc_noise(x_test, rnd=False)\n",
        "x_test_rnd = loc_noise(x_test)"
      ],
      "metadata": {
        "id": "yx0vqINu401g"
      },
      "execution_count": 8,
      "outputs": []
    },
    {
      "cell_type": "code",
      "source": [
        "idx = 1\n",
        "plt.imshow(x_train_shift[idx])"
      ],
      "metadata": {
        "colab": {
          "base_uri": "https://localhost:8080/",
          "height": 450
        },
        "id": "a_4PGd4p6RO8",
        "outputId": "99f46461-c030-4d2f-d6ff-088cba14220c"
      },
      "execution_count": 9,
      "outputs": [
        {
          "output_type": "execute_result",
          "data": {
            "text/plain": [
              "<matplotlib.image.AxesImage at 0x79bb5b9cab60>"
            ]
          },
          "metadata": {},
          "execution_count": 9
        },
        {
          "output_type": "display_data",
          "data": {
            "text/plain": [
              "<Figure size 640x480 with 1 Axes>"
            ],
            "image/png": "[encoded data removed]"
          },
          "metadata": {}
        }
      ]
    },
    {
      "cell_type": "code",
      "source": [
        "plt.imshow(x_train_rnd[idx])"
      ],
      "metadata": {
        "colab": {
          "base_uri": "https://localhost:8080/",
          "height": 450
        },
        "id": "KGnfxh-K6aAj",
        "outputId": "5914a7a9-3617-4df2-eab3-33578f144044"
      },
      "execution_count": 10,
      "outputs": [
        {
          "output_type": "execute_result",
          "data": {
            "text/plain": [
              "<matplotlib.image.AxesImage at 0x79ba86ea34f0>"
            ]
          },
          "metadata": {},
          "execution_count": 10
        },
        {
          "output_type": "display_data",
          "data": {
            "text/plain": [
              "<Figure size 640x480 with 1 Axes>"
            ],
            "image/png": "[encoded data removed]"
          },
          "metadata": {}
        }
      ]
    },
    {
      "cell_type": "markdown",
      "source": [
        "# **Test on striped data**"
      ],
      "metadata": {
        "id": "SF6NAWiK8Zcr"
      }
    },
    {
      "cell_type": "code",
      "source": [
        "network.evaluate(x_test_striped, y_test)"
      ],
      "metadata": {
        "colab": {
          "base_uri": "https://localhost:8080/"
        },
        "id": "LkaRAT6I8YQo",
        "outputId": "da8de7e9-0d0c-45ce-95f0-c901087f173c"
      },
      "execution_count": 30,
      "outputs": [
        {
          "output_type": "stream",
          "name": "stdout",
          "text": [
            "313/313 [==============================] - 1s 2ms/step - loss: 2.8070 - accuracy: 0.4688\n"
          ]
        },
        {
          "output_type": "execute_result",
          "data": {
            "text/plain": [
              "[2.8069982528686523, 0.46880000829696655]"
            ]
          },
          "metadata": {},
          "execution_count": 30
        }
      ]
    },
    {
      "cell_type": "markdown",
      "source": [
        "# **Train model for shifted data**"
      ],
      "metadata": {
        "id": "-sGXb2jE9SA3"
      }
    },
    {
      "cell_type": "code",
      "source": [
        "network_shifted = keras.Sequential([\n",
        "    keras.Input(shape=(56,56)),\n",
        "    keras.layers.Flatten(),\n",
        "    keras.layers.Dense(8, activation=\"tanh\"),\n",
        "    keras.layers.Dense(4, activation=\"tanh\"),\n",
        "    keras.layers.Dense(10, activation=\"softmax\")])\n",
        "\n",
        "network_shifted.compile(loss='categorical_crossentropy',\n",
        "                optimizer=keras.optimizers.Adam(learning_rate=0.01),\n",
        "                metrics=['accuracy'])\n",
        "\n",
        "network_shifted.fit(x_train_shift, y_train, epochs=10, batch_size=512)"
      ],
      "metadata": {
        "colab": {
          "base_uri": "https://localhost:8080/"
        },
        "id": "k1RI_z1j9RqL",
        "outputId": "b4de1b22-0e85-44fe-f9b6-ede979cf4a0a"
      },
      "execution_count": 31,
      "outputs": [
        {
          "output_type": "stream",
          "name": "stdout",
          "text": [
            "Epoch 1/10\n",
            "118/118 [==============================] - 2s 6ms/step - loss: 1.1171 - accuracy: 0.7330\n",
            "Epoch 2/10\n",
            "118/118 [==============================] - 1s 6ms/step - loss: 0.5672 - accuracy: 0.8654\n",
            "Epoch 3/10\n",
            "118/118 [==============================] - 1s 8ms/step - loss: 0.4856 - accuracy: 0.8802\n",
            "Epoch 4/10\n",
            "118/118 [==============================] - 1s 9ms/step - loss: 0.4442 - accuracy: 0.8874\n",
            "Epoch 5/10\n",
            "118/118 [==============================] - 1s 6ms/step - loss: 0.4170 - accuracy: 0.8928\n",
            "Epoch 6/10\n",
            "118/118 [==============================] - 1s 6ms/step - loss: 0.3977 - accuracy: 0.9003\n",
            "Epoch 7/10\n",
            "118/118 [==============================] - 1s 6ms/step - loss: 0.3775 - accuracy: 0.9051\n",
            "Epoch 8/10\n",
            "118/118 [==============================] - 1s 6ms/step - loss: 0.3673 - accuracy: 0.9072\n",
            "Epoch 9/10\n",
            "118/118 [==============================] - 1s 6ms/step - loss: 0.3565 - accuracy: 0.9101\n",
            "Epoch 10/10\n",
            "118/118 [==============================] - 1s 5ms/step - loss: 0.3495 - accuracy: 0.9114\n"
          ]
        },
        {
          "output_type": "execute_result",
          "data": {
            "text/plain": [
              "<keras.src.callbacks.History at 0x7960d6c89f30>"
            ]
          },
          "metadata": {},
          "execution_count": 31
        }
      ]
    },
    {
      "cell_type": "markdown",
      "source": [
        "# **Test model on shifted data**"
      ],
      "metadata": {
        "id": "ySxp5PDy-ef_"
      }
    },
    {
      "cell_type": "code",
      "source": [
        "network_shifted.evaluate(x_test_shift, y_test)"
      ],
      "metadata": {
        "colab": {
          "base_uri": "https://localhost:8080/"
        },
        "id": "ef0RdorI9q7y",
        "outputId": "efce2ca1-c416-4bef-9a7b-caa29eda7e0c"
      },
      "execution_count": 32,
      "outputs": [
        {
          "output_type": "stream",
          "name": "stdout",
          "text": [
            "313/313 [==============================] - 1s 2ms/step - loss: 0.3860 - accuracy: 0.9038\n"
          ]
        },
        {
          "output_type": "execute_result",
          "data": {
            "text/plain": [
              "[0.3860096037387848, 0.9038000106811523]"
            ]
          },
          "metadata": {},
          "execution_count": 32
        }
      ]
    },
    {
      "cell_type": "markdown",
      "source": [
        "# **Test model on randomly shifted data**"
      ],
      "metadata": {
        "id": "Yq921S7F-jAo"
      }
    },
    {
      "cell_type": "code",
      "source": [
        "network_shifted.evaluate(x_test_rnd, y_test)"
      ],
      "metadata": {
        "colab": {
          "base_uri": "https://localhost:8080/"
        },
        "id": "Dr9ysTRq-QAD",
        "outputId": "1c599589-090a-4a8d-96c3-2403a7212e3b"
      },
      "execution_count": 33,
      "outputs": [
        {
          "output_type": "stream",
          "name": "stdout",
          "text": [
            "313/313 [==============================] - 1s 2ms/step - loss: 5.6253 - accuracy: 0.1258\n"
          ]
        },
        {
          "output_type": "execute_result",
          "data": {
            "text/plain": [
              "[5.6252851486206055, 0.1257999986410141]"
            ]
          },
          "metadata": {},
          "execution_count": 33
        }
      ]
    },
    {
      "cell_type": "markdown",
      "source": [
        "# **Train and test model on striped data**"
      ],
      "metadata": {
        "id": "HCH0zcgIJ7gq"
      }
    },
    {
      "cell_type": "code",
      "source": [
        "network_striped = keras.Sequential([\n",
        "    keras.Input(shape=(28,28)),\n",
        "    keras.layers.Flatten(),\n",
        "    keras.layers.Dense(8, activation=\"tanh\"),\n",
        "    keras.layers.Dense(4, activation=\"tanh\"),\n",
        "    keras.layers.Dense(10, activation=\"softmax\")])\n",
        "\n",
        "network_striped.compile(loss='categorical_crossentropy',\n",
        "                optimizer=keras.optimizers.Adam(learning_rate=0.01),\n",
        "                metrics=['accuracy'])\n",
        "\n",
        "network_striped.fit(x_train_striped, y_train, epochs=10, batch_size=512)"
      ],
      "metadata": {
        "colab": {
          "base_uri": "https://localhost:8080/"
        },
        "outputId": "d2ebb150-7927-444b-d758-525d7d95a283",
        "id": "03McN5OTJ7gw"
      },
      "execution_count": 34,
      "outputs": [
        {
          "output_type": "stream",
          "name": "stdout",
          "text": [
            "Epoch 1/10\n",
            "118/118 [==============================] - 2s 5ms/step - loss: 1.9037 - accuracy: 0.3142\n",
            "Epoch 2/10\n",
            "118/118 [==============================] - 1s 5ms/step - loss: 1.6919 - accuracy: 0.3678\n",
            "Epoch 3/10\n",
            "118/118 [==============================] - 1s 5ms/step - loss: 1.5833 - accuracy: 0.4095\n",
            "Epoch 4/10\n",
            "118/118 [==============================] - 0s 4ms/step - loss: 1.4897 - accuracy: 0.4573\n",
            "Epoch 5/10\n",
            "118/118 [==============================] - 0s 4ms/step - loss: 1.5112 - accuracy: 0.4357\n",
            "Epoch 6/10\n",
            "118/118 [==============================] - 0s 4ms/step - loss: 1.4132 - accuracy: 0.5170\n",
            "Epoch 7/10\n",
            "118/118 [==============================] - 0s 4ms/step - loss: 1.4708 - accuracy: 0.4774\n",
            "Epoch 8/10\n",
            "118/118 [==============================] - 0s 4ms/step - loss: 1.3393 - accuracy: 0.5225\n",
            "Epoch 9/10\n",
            "118/118 [==============================] - 0s 4ms/step - loss: 1.2615 - accuracy: 0.5536\n",
            "Epoch 10/10\n",
            "118/118 [==============================] - 0s 4ms/step - loss: 1.2963 - accuracy: 0.5304\n"
          ]
        },
        {
          "output_type": "execute_result",
          "data": {
            "text/plain": [
              "<keras.src.callbacks.History at 0x7960683e1810>"
            ]
          },
          "metadata": {},
          "execution_count": 34
        }
      ]
    },
    {
      "cell_type": "code",
      "source": [
        "network_striped.evaluate(x_test_striped, y_test)"
      ],
      "metadata": {
        "colab": {
          "base_uri": "https://localhost:8080/"
        },
        "id": "TkNi2k6-O6PM",
        "outputId": "698fb065-b455-4514-9903-c314fcfe64d8"
      },
      "execution_count": 35,
      "outputs": [
        {
          "output_type": "stream",
          "name": "stdout",
          "text": [
            "313/313 [==============================] - 1s 2ms/step - loss: 1.2487 - accuracy: 0.5357\n"
          ]
        },
        {
          "output_type": "execute_result",
          "data": {
            "text/plain": [
              "[1.248737096786499, 0.5357000231742859]"
            ]
          },
          "metadata": {},
          "execution_count": 35
        }
      ]
    },
    {
      "cell_type": "markdown",
      "source": [
        "# **Train and test model on randomly shifted data**"
      ],
      "metadata": {
        "id": "mkNFtJsEOPz7"
      }
    },
    {
      "cell_type": "code",
      "source": [
        "network_shifted = keras.Sequential([\n",
        "    keras.Input(shape=(56,56)),\n",
        "    keras.layers.Flatten(),\n",
        "    keras.layers.Dense(8, activation=\"tanh\"),\n",
        "    keras.layers.Dense(4, activation=\"tanh\"),\n",
        "    keras.layers.Dense(10, activation=\"softmax\")])\n",
        "\n",
        "network_shifted.compile(loss='categorical_crossentropy',\n",
        "                optimizer=keras.optimizers.Adam(learning_rate=0.001),\n",
        "                metrics=['accuracy'])\n",
        "\n",
        "network_shifted.fit(x_train_rnd, y_train, epochs=10, batch_size=512)"
      ],
      "metadata": {
        "colab": {
          "base_uri": "https://localhost:8080/"
        },
        "outputId": "ce4ccab5-6349-405f-c467-b387bfb721bf",
        "id": "o7rnryO_OP0C"
      },
      "execution_count": 36,
      "outputs": [
        {
          "output_type": "stream",
          "name": "stdout",
          "text": [
            "Epoch 1/10\n",
            "118/118 [==============================] - 2s 6ms/step - loss: 2.2715 - accuracy: 0.1529\n",
            "Epoch 2/10\n",
            "118/118 [==============================] - 1s 6ms/step - loss: 2.1887 - accuracy: 0.2151\n",
            "Epoch 3/10\n",
            "118/118 [==============================] - 1s 6ms/step - loss: 2.0789 - accuracy: 0.2649\n",
            "Epoch 4/10\n",
            "118/118 [==============================] - 1s 6ms/step - loss: 1.9697 - accuracy: 0.2964\n",
            "Epoch 5/10\n",
            "118/118 [==============================] - 1s 6ms/step - loss: 1.8829 - accuracy: 0.3226\n",
            "Epoch 6/10\n",
            "118/118 [==============================] - 1s 6ms/step - loss: 1.8101 - accuracy: 0.3470\n",
            "Epoch 7/10\n",
            "118/118 [==============================] - 1s 6ms/step - loss: 1.7488 - accuracy: 0.3674\n",
            "Epoch 8/10\n",
            "118/118 [==============================] - 1s 6ms/step - loss: 1.6933 - accuracy: 0.3873\n",
            "Epoch 9/10\n",
            "118/118 [==============================] - 1s 6ms/step - loss: 1.6430 - accuracy: 0.4038\n",
            "Epoch 10/10\n",
            "118/118 [==============================] - 1s 6ms/step - loss: 1.5974 - accuracy: 0.4237\n"
          ]
        },
        {
          "output_type": "execute_result",
          "data": {
            "text/plain": [
              "<keras.src.callbacks.History at 0x7960681224d0>"
            ]
          },
          "metadata": {},
          "execution_count": 36
        }
      ]
    },
    {
      "cell_type": "code",
      "source": [
        "network_shifted.evaluate(x_test_rnd, y_test)"
      ],
      "metadata": {
        "colab": {
          "base_uri": "https://localhost:8080/"
        },
        "id": "nmqxuysuPCdG",
        "outputId": "3caa4f97-6d49-40b5-c4bb-d845603e31e5"
      },
      "execution_count": 37,
      "outputs": [
        {
          "output_type": "stream",
          "name": "stdout",
          "text": [
            "313/313 [==============================] - 1s 3ms/step - loss: 1.6262 - accuracy: 0.4177\n"
          ]
        },
        {
          "output_type": "execute_result",
          "data": {
            "text/plain": [
              "[1.6262041330337524, 0.41769999265670776]"
            ]
          },
          "metadata": {},
          "execution_count": 37
        }
      ]
    },
    {
      "cell_type": "markdown",
      "source": [
        "# **Convolutional network**"
      ],
      "metadata": {
        "id": "JRf8GLtlQdHy"
      }
    },
    {
      "cell_type": "code",
      "source": [
        "network_conv2D = keras.Sequential([\n",
        "    keras.Input(shape=(56,56,1)),\n",
        "    keras.layers.Conv2D(8, 7, strides=3, activation=\"tanh\"),\n",
        "    keras.layers.Conv2D(8, 5, strides=1, activation=\"tanh\"),\n",
        "    keras.layers.Conv2D(8, 3, strides=1, activation=\"tanh\"),\n",
        "    keras.layers.Flatten(),\n",
        "    keras.layers.Dense(10, activation=\"softmax\")])\n",
        "\n",
        "network_conv2D.summary()\n",
        "\n",
        "network_conv2D.compile(loss='categorical_crossentropy',\n",
        "                optimizer=keras.optimizers.Adam(learning_rate=0.01),\n",
        "                metrics=['accuracy'])\n",
        "\n",
        "network_conv2D.fit(x_train_rnd, y_train, epochs=10, batch_size=512)"
      ],
      "metadata": {
        "colab": {
          "base_uri": "https://localhost:8080/"
        },
        "id": "OrkvHVKjQhYZ",
        "outputId": "3fd2da73-aa37-4805-b2a7-9b14fa0deb49"
      },
      "execution_count": 13,
      "outputs": [
        {
          "output_type": "stream",
          "name": "stdout",
          "text": [
            "Model: \"sequential_1\"\n",
            "_________________________________________________________________\n",
            " Layer (type)                Output Shape              Param #   \n",
            "=================================================================\n",
            " conv2d_3 (Conv2D)           (None, 17, 17, 8)         400       \n",
            "                                                                 \n",
            " conv2d_4 (Conv2D)           (None, 13, 13, 8)         1608      \n",
            "                                                                 \n",
            " conv2d_5 (Conv2D)           (None, 11, 11, 8)         584       \n",
            "                                                                 \n",
            " flatten_1 (Flatten)         (None, 968)               0         \n",
            "                                                                 \n",
            " dense_1 (Dense)             (None, 10)                9690      \n",
            "                                                                 \n",
            "=================================================================\n",
            "Total params: 12282 (47.98 KB)\n",
            "Trainable params: 12282 (47.98 KB)\n",
            "Non-trainable params: 0 (0.00 Byte)\n",
            "_________________________________________________________________\n",
            "Epoch 1/10\n",
            "118/118 [==============================] - 5s 10ms/step - loss: 1.3287 - accuracy: 0.5294\n",
            "Epoch 2/10\n",
            "118/118 [==============================] - 1s 8ms/step - loss: 0.5731 - accuracy: 0.8150\n",
            "Epoch 3/10\n",
            "118/118 [==============================] - 1s 10ms/step - loss: 0.4261 - accuracy: 0.8655\n",
            "Epoch 4/10\n",
            "118/118 [==============================] - 1s 9ms/step - loss: 0.3793 - accuracy: 0.8816\n",
            "Epoch 5/10\n",
            "118/118 [==============================] - 1s 7ms/step - loss: 0.3425 - accuracy: 0.8926\n",
            "Epoch 6/10\n",
            "118/118 [==============================] - 1s 7ms/step - loss: 0.3079 - accuracy: 0.9033\n",
            "Epoch 7/10\n",
            "118/118 [==============================] - 1s 7ms/step - loss: 0.3001 - accuracy: 0.9053\n",
            "Epoch 8/10\n",
            "118/118 [==============================] - 1s 7ms/step - loss: 0.3107 - accuracy: 0.9041\n",
            "Epoch 9/10\n",
            "118/118 [==============================] - 1s 7ms/step - loss: 0.2919 - accuracy: 0.9093\n",
            "Epoch 10/10\n",
            "118/118 [==============================] - 1s 7ms/step - loss: 0.2845 - accuracy: 0.9108\n"
          ]
        },
        {
          "output_type": "execute_result",
          "data": {
            "text/plain": [
              "<keras.src.callbacks.History at 0x79ba7ff561a0>"
            ]
          },
          "metadata": {},
          "execution_count": 13
        }
      ]
    },
    {
      "cell_type": "code",
      "source": [
        "network_conv2D.evaluate(x_test_rnd, y_test)"
      ],
      "metadata": {
        "colab": {
          "base_uri": "https://localhost:8080/"
        },
        "id": "A4WFk2Y0X5fR",
        "outputId": "bc09cbf8-3244-46c1-c763-86ef95985981"
      },
      "execution_count": 14,
      "outputs": [
        {
          "output_type": "stream",
          "name": "stdout",
          "text": [
            "313/313 [==============================] - 1s 3ms/step - loss: 0.3005 - accuracy: 0.9099\n"
          ]
        },
        {
          "output_type": "execute_result",
          "data": {
            "text/plain": [
              "[0.30052605271339417, 0.9099000096321106]"
            ]
          },
          "metadata": {},
          "execution_count": 14
        }
      ]
    }
  ]
}