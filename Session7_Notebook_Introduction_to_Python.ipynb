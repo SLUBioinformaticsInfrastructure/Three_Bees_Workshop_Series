{
  "nbformat": 4,
  "nbformat_minor": 0,
  "metadata": {
    "colab": {
      "provenance": []
    },
    "kernelspec": {
      "name": "python3",
      "display_name": "Python 3"
    },
    "language_info": {
      "name": "python"
    }
  },
  "cells": [
    {
      "cell_type": "markdown",
      "source": [
        "# First steps"
      ],
      "metadata": {
        "id": "ZDghUbz6CEqK"
      }
    },
    {
      "cell_type": "code",
      "execution_count": null,
      "metadata": {
        "id": "nV2jBlLZByhk"
      },
      "outputs": [],
      "source": [
        "a = 42\n",
        "print(a)"
      ]
    },
    {
      "cell_type": "code",
      "source": [
        "print (b)"
      ],
      "metadata": {
        "id": "zjgsouQlCPL8"
      },
      "execution_count": null,
      "outputs": []
    },
    {
      "cell_type": "code",
      "source": [
        "b = \"some_text\"\n",
        "print (b)"
      ],
      "metadata": {
        "id": "K2x7mvDjCa2Q"
      },
      "execution_count": null,
      "outputs": []
    },
    {
      "cell_type": "code",
      "source": [
        "print (\"some other text\")"
      ],
      "metadata": {
        "id": "l6JrfDE8EwLP"
      },
      "execution_count": null,
      "outputs": []
    },
    {
      "cell_type": "code",
      "source": [
        "42+2"
      ],
      "metadata": {
        "id": "Z7QFXk6VE-9N"
      },
      "execution_count": null,
      "outputs": []
    },
    {
      "cell_type": "code",
      "source": [
        "a = 42+2\n",
        "print (a)"
      ],
      "metadata": {
        "id": "32BiTyjDFGdb"
      },
      "execution_count": null,
      "outputs": []
    },
    {
      "cell_type": "code",
      "source": [
        "print (42+2)"
      ],
      "metadata": {
        "id": "BwtVb0_JFIng"
      },
      "execution_count": null,
      "outputs": []
    },
    {
      "cell_type": "markdown",
      "source": [
        "# Data types"
      ],
      "metadata": {
        "id": "aSR38mG3G1Sr"
      }
    },
    {
      "cell_type": "code",
      "source": [
        "list_example = [1, 2.0, \"some text\"]\n",
        "print (list_example)"
      ],
      "metadata": {
        "id": "LNNc5_yNG4JL"
      },
      "execution_count": null,
      "outputs": []
    },
    {
      "cell_type": "code",
      "source": [
        "list_of_lists = [[1,2,3], [\"text\",\"more text\",\"other text\"]]\n",
        "print (list_of_lists)"
      ],
      "metadata": {
        "id": "HwbjzQdKHnVq"
      },
      "execution_count": null,
      "outputs": []
    },
    {
      "cell_type": "code",
      "source": [
        "print ([list_of_lists, list_example])"
      ],
      "metadata": {
        "id": "-FbPBkWeIDfn"
      },
      "execution_count": null,
      "outputs": []
    },
    {
      "cell_type": "code",
      "source": [
        "dictionary_example = {'key1':\"some text\", 'key2':'some other text', 3:list_example}\n",
        "print (dictionary_example)"
      ],
      "metadata": {
        "id": "MyfeyZUhIR5l"
      },
      "execution_count": null,
      "outputs": []
    },
    {
      "cell_type": "code",
      "source": [
        "print(dictionary_example['key1'])"
      ],
      "metadata": {
        "id": "6NoleazBIzQQ"
      },
      "execution_count": null,
      "outputs": []
    },
    {
      "cell_type": "code",
      "source": [
        "print(dictionary_example[3])"
      ],
      "metadata": {
        "id": "R8B61OpVJR4N"
      },
      "execution_count": null,
      "outputs": []
    },
    {
      "cell_type": "code",
      "source": [
        "a = \"key1\"\n",
        "print (dictionary_example[a])"
      ],
      "metadata": {
        "id": "BmkOXFEeJVjf"
      },
      "execution_count": null,
      "outputs": []
    },
    {
      "cell_type": "markdown",
      "source": [
        "# Operations"
      ],
      "metadata": {
        "id": "JAofE4RJPYlP"
      }
    },
    {
      "cell_type": "code",
      "source": [
        "print (4/3)"
      ],
      "metadata": {
        "id": "9Y3CY0mxPVc2"
      },
      "execution_count": null,
      "outputs": []
    },
    {
      "cell_type": "code",
      "source": [
        "print (9%3)"
      ],
      "metadata": {
        "id": "_IM9v_p1P8kl"
      },
      "execution_count": null,
      "outputs": []
    },
    {
      "cell_type": "code",
      "source": [
        "print (\"more text\"+\"other text\")"
      ],
      "metadata": {
        "id": "1lKhdrewQYFc"
      },
      "execution_count": null,
      "outputs": []
    },
    {
      "cell_type": "code",
      "source": [
        "print (list_of_lists+list_example)"
      ],
      "metadata": {
        "id": "E-2VxnVIQiwR"
      },
      "execution_count": null,
      "outputs": []
    },
    {
      "cell_type": "code",
      "source": [
        "print (list_of_lists==list_example)"
      ],
      "metadata": {
        "id": "5h2Q2Y-URoXd"
      },
      "execution_count": null,
      "outputs": []
    },
    {
      "cell_type": "code",
      "source": [
        "a = list_of_lists!=list_example\n",
        "b = 4/3==1\n",
        "print (a, b, not b, a and b, a or b, a and not b)"
      ],
      "metadata": {
        "id": "Z3cvQaRKSvQe"
      },
      "execution_count": null,
      "outputs": []
    },
    {
      "cell_type": "markdown",
      "source": [
        "# Indexing"
      ],
      "metadata": {
        "id": "oSCDD8PRUmhe"
      }
    },
    {
      "cell_type": "code",
      "source": [
        "print (list_of_lists[0])"
      ],
      "metadata": {
        "id": "m66SmLRMUppF"
      },
      "execution_count": null,
      "outputs": []
    },
    {
      "cell_type": "code",
      "source": [
        "print (list_of_lists[0][0])"
      ],
      "metadata": {
        "id": "6x85rv4EbMrF"
      },
      "execution_count": null,
      "outputs": []
    },
    {
      "cell_type": "code",
      "source": [
        "print (list_of_lists[0][0:2])"
      ],
      "metadata": {
        "id": "aedVILZRbUQC"
      },
      "execution_count": null,
      "outputs": []
    },
    {
      "cell_type": "code",
      "source": [
        "long_list = [1,2,3,4,5,6,7,8,9,10,11,12,13]\n",
        "print (long_list[3::2])"
      ],
      "metadata": {
        "id": "Qrc4QgxJbZVx"
      },
      "execution_count": null,
      "outputs": []
    },
    {
      "cell_type": "markdown",
      "source": [
        "# Operator"
      ],
      "metadata": {
        "id": "EcDbl5nrcZai"
      }
    },
    {
      "cell_type": "code",
      "source": [
        "input = 16\n",
        "if input < 5:\n",
        "    print (\"first branch\")\n",
        "    print (\"first set of instructions\")\n",
        "elif input < 10:\n",
        "    print (\"second branch\")\n",
        "    print (\"second set of instructions\")\n",
        "elif input < 15:\n",
        "    print (\"third branch\")\n",
        "    print (\"third set of instructions\")\n",
        "else:\n",
        "    print (\"nth branch\")\n",
        "    print (\"nth set of instructions\")\n",
        "print (\"more instructions\")"
      ],
      "metadata": {
        "id": "DsS8Je3ecvi7"
      },
      "execution_count": null,
      "outputs": []
    },
    {
      "cell_type": "code",
      "source": [
        "for element in long_list:\n",
        "    print (element)\n",
        "    element = element + 5\n",
        "    print (long_list, element)\n",
        "print ('first thing out of the iteration')"
      ],
      "metadata": {
        "id": "hrQmb9ssdgZA"
      },
      "execution_count": null,
      "outputs": []
    },
    {
      "cell_type": "code",
      "source": [
        "n = 0\n",
        "while n < 10:\n",
        "    n = n + 1\n",
        "    print (n)\n",
        "print ('first thing out of the iteration')"
      ],
      "metadata": {
        "id": "j-L9NOpTfKWl"
      },
      "execution_count": null,
      "outputs": []
    },
    {
      "cell_type": "markdown",
      "source": [
        "# Bubblesort"
      ],
      "metadata": {
        "id": "aVxurjc9f4sb"
      }
    },
    {
      "cell_type": "code",
      "source": [
        "a = [50,33,1,67,72,204,43,18]\n",
        "\n",
        "i = 1\n",
        "\n",
        "if a[i-1] > a[i]:\n",
        "    swap_variable = a[i-1]\n",
        "    a[i-1] = a[i]\n",
        "    a[i] = swap_variable\n",
        "\n",
        "print (a)"
      ],
      "metadata": {
        "id": "EUvfsFzbf3dJ"
      },
      "execution_count": null,
      "outputs": []
    },
    {
      "cell_type": "code",
      "source": [
        "a = [50,33,1,67,72,204,43,18]\n",
        "idx = [1,2,3,4,5,6,7]\n",
        "\n",
        "for i in idx:\n",
        "    if a[i-1] > a[i]:\n",
        "        swap_variable = a[i-1]\n",
        "        a[i-1] = a[i]\n",
        "        a[i] = swap_variable\n",
        "\n",
        "print (a)"
      ],
      "metadata": {
        "id": "t4SP1ty3gilk"
      },
      "execution_count": null,
      "outputs": []
    },
    {
      "cell_type": "code",
      "source": [
        "a = [50,33,1,67,72,204,43,18]\n",
        "idx = [1,2,3,4,5,6,7]\n",
        "\n",
        "swap_check = True\n",
        "while swap_check:\n",
        "    swap_check = False\n",
        "    for i in idx:\n",
        "        if a[i-1] > a[i]:\n",
        "            swap_variable = a[i-1]\n",
        "            a[i-1] = a[i]\n",
        "            a[i] = swap_variable\n",
        "            swap_check = True\n",
        "\n",
        "print (a)"
      ],
      "metadata": {
        "id": "uuLhMxYbg4pK"
      },
      "execution_count": null,
      "outputs": []
    },
    {
      "cell_type": "markdown",
      "source": [
        "# Function"
      ],
      "metadata": {
        "id": "dH-XLmNZpCYl"
      }
    },
    {
      "cell_type": "code",
      "source": [
        "a = [50,33,1,67,72,204,43,18]\n",
        "idx = [1,2,3,4,5,6,7]\n",
        "\n",
        "def bubblesort(a, idx):\n",
        "    swap_check = True\n",
        "    while swap_check:\n",
        "        swap_check = False\n",
        "        for i in idx:\n",
        "            if a[i-1] > a[i]:\n",
        "                swap_variable = a[i-1]\n",
        "                a[i-1] = a[i]\n",
        "                a[i] = swap_variable\n",
        "                swap_check = True\n",
        "    return a\n",
        "\n",
        "print (a)\n",
        "a = bubblesort(a, idx)\n",
        "print (a)"
      ],
      "metadata": {
        "id": "-qZSVU0NhYnD"
      },
      "execution_count": null,
      "outputs": []
    },
    {
      "cell_type": "code",
      "source": [
        "print (len(a), len('text'))"
      ],
      "metadata": {
        "id": "2nu1DmXwiTH0"
      },
      "execution_count": null,
      "outputs": []
    },
    {
      "cell_type": "code",
      "source": [
        "for n in range(5):\n",
        "  print (n)"
      ],
      "metadata": {
        "id": "EqjVL-_poXEH"
      },
      "execution_count": null,
      "outputs": []
    },
    {
      "cell_type": "code",
      "source": [
        "a = [50,33,1,67,72,204,43,18]\n",
        "\n",
        "def bubblesort(a):\n",
        "    swap_check = True\n",
        "    while swap_check:\n",
        "        swap_check = False\n",
        "        for i in range(1, len(a)):\n",
        "            if a[i-1] > a[i]:\n",
        "                swap_variable = a[i-1]\n",
        "                a[i-1] = a[i]\n",
        "                a[i] = swap_variable\n",
        "                swap_check = True\n",
        "    return a\n",
        "\n",
        "a = bubblesort(a)\n",
        "print (a)"
      ],
      "metadata": {
        "id": "jIwByGi_iF-0"
      },
      "execution_count": null,
      "outputs": []
    },
    {
      "cell_type": "markdown",
      "source": [
        "# Classes"
      ],
      "metadata": {
        "id": "pghjXjL-pPgY"
      }
    },
    {
      "cell_type": "code",
      "source": [
        "a = range(0,8)\n",
        "print (a, type(a))"
      ],
      "metadata": {
        "id": "07Vhs8UzodUa"
      },
      "execution_count": null,
      "outputs": []
    },
    {
      "cell_type": "code",
      "source": [
        "a = list(a)\n",
        "print (a, type(a))"
      ],
      "metadata": {
        "id": "T5aSODv6k1yc"
      },
      "execution_count": null,
      "outputs": []
    },
    {
      "cell_type": "code",
      "source": [
        "a.append(10)\n",
        "print (a)"
      ],
      "metadata": {
        "id": "gjAyRBTdtQXU"
      },
      "execution_count": null,
      "outputs": []
    },
    {
      "cell_type": "markdown",
      "source": [
        "# Libraries"
      ],
      "metadata": {
        "id": "CtGIKWSCt79g"
      }
    },
    {
      "cell_type": "code",
      "source": [
        "import numpy"
      ],
      "metadata": {
        "id": "cUPNeK3Ltsaw"
      },
      "execution_count": null,
      "outputs": []
    },
    {
      "cell_type": "code",
      "source": [
        "a = list(range(8))\n",
        "a_array = numpy.array(a)\n",
        "print (a_array, type(a_array))"
      ],
      "metadata": {
        "id": "pgHKN6nLuDRw"
      },
      "execution_count": null,
      "outputs": []
    },
    {
      "cell_type": "code",
      "source": [
        "print (a)\n",
        "print (a+1)"
      ],
      "metadata": {
        "id": "F86w-ybAuQjq"
      },
      "execution_count": null,
      "outputs": []
    },
    {
      "cell_type": "code",
      "source": [
        "print (a_array)\n",
        "print (a_array+1)"
      ],
      "metadata": {
        "id": "iRcBCrsNuc0_"
      },
      "execution_count": null,
      "outputs": []
    },
    {
      "cell_type": "code",
      "source": [
        "stacked_array = numpy.stack((a_array, a_array+5, a_array+10))\n",
        "print (stacked_array)"
      ],
      "metadata": {
        "id": "JsCKP2rBvC5C"
      },
      "execution_count": null,
      "outputs": []
    },
    {
      "cell_type": "code",
      "source": [
        "print (stacked_array.shape)"
      ],
      "metadata": {
        "id": "o5RoYF4Mwzam"
      },
      "execution_count": null,
      "outputs": []
    },
    {
      "cell_type": "code",
      "source": [
        "concatenated = numpy.concatenate((stacked_array, stacked_array*100), axis=0)\n",
        "print (concatenated)"
      ],
      "metadata": {
        "id": "s5TKWzNnw9LE"
      },
      "execution_count": null,
      "outputs": []
    },
    {
      "cell_type": "code",
      "source": [
        "print (concatenated.shape)"
      ],
      "metadata": {
        "id": "slIv87erdbh8"
      },
      "execution_count": null,
      "outputs": []
    },
    {
      "cell_type": "code",
      "source": [
        "stacked_concat = numpy.stack((concatenated, concatenated*100))\n",
        "print (stacked_concat)"
      ],
      "metadata": {
        "id": "uo-X3ujSeeYj"
      },
      "execution_count": null,
      "outputs": []
    },
    {
      "cell_type": "code",
      "source": [
        "print (stacked_concat.shape)"
      ],
      "metadata": {
        "id": "ukVib65_ewcg"
      },
      "execution_count": null,
      "outputs": []
    },
    {
      "cell_type": "code",
      "source": [
        "print (numpy.where(stacked_concat>1000))"
      ],
      "metadata": {
        "id": "4zu8Ed3FfrZM"
      },
      "execution_count": null,
      "outputs": []
    },
    {
      "cell_type": "code",
      "source": [
        "selection = stacked_concat[numpy.where(stacked_concat>1000)]\n",
        "print (selection)"
      ],
      "metadata": {
        "id": "HU763TBLgIAv"
      },
      "execution_count": null,
      "outputs": []
    },
    {
      "cell_type": "code",
      "source": [
        "import matplotlib.pyplot as plt"
      ],
      "metadata": {
        "id": "VDSuat04gfri"
      },
      "execution_count": null,
      "outputs": []
    },
    {
      "cell_type": "code",
      "source": [
        "plt.imshow(stacked_concat[0])"
      ],
      "metadata": {
        "id": "ZM4_huHkgnDD"
      },
      "execution_count": null,
      "outputs": []
    },
    {
      "cell_type": "code",
      "source": [
        "plt.plot(selection)\n",
        "\n",
        "plt.xlim(20,50)\n",
        "plt.show()"
      ],
      "metadata": {
        "id": "lJIyGXYwg0Kz"
      },
      "execution_count": null,
      "outputs": []
    },
    {
      "cell_type": "code",
      "source": [
        "random = numpy.array(range(0,200000,4000))\n",
        "print (random.shape)\n",
        "\n",
        "plt.plot(random, c='black', linestyle='--', label='random')\n",
        "plt.plot(selection, label='data')\n",
        "\n",
        "plt.legend()\n",
        "plt.show()"
      ],
      "metadata": {
        "id": "Dg-EYGFJi-CF"
      },
      "execution_count": null,
      "outputs": []
    }
  ]
}